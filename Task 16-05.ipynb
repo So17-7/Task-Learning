{
  "nbformat": 4,
  "nbformat_minor": 0,
  "metadata": {
    "colab": {
      "provenance": [],
      "gpuType": "V28"
    },
    "kernelspec": {
      "name": "python3",
      "display_name": "Python 3"
    },
    "language_info": {
      "name": "python"
    },
    "accelerator": "TPU"
  },
  "cells": [
    {
      "cell_type": "markdown",
      "source": [
        "Loops"
      ],
      "metadata": {
        "id": "HqO6LERbmN7t"
      }
    },
    {
      "cell_type": "code",
      "source": [
        "s = [\"apple\", \"banana\", \"orange\"]\n",
        "\n",
        "\n",
        "for i in s:\n",
        "    print(i)"
      ],
      "metadata": {
        "colab": {
          "base_uri": "https://localhost:8080/"
        },
        "id": "5Ar8pBgSsvmy",
        "outputId": "0e718da1-cf76-4a9d-8ad2-6a78fde41578"
      },
      "execution_count": 1,
      "outputs": [
        {
          "output_type": "stream",
          "name": "stdout",
          "text": [
            "apple\n",
            "banana\n",
            "orange\n"
          ]
        }
      ]
    },
    {
      "cell_type": "code",
      "source": [
        "for i in 'abcdefghij':\n",
        "\n",
        "    if i == 'e' or i == 'g':\n",
        "        continue\n",
        "    print(i)"
      ],
      "metadata": {
        "id": "FTBJapieuEq9",
        "colab": {
          "base_uri": "https://localhost:8080/"
        },
        "outputId": "3d6b4578-dbc7-4bfd-942d-a35dd44ebbae"
      },
      "execution_count": 2,
      "outputs": [
        {
          "output_type": "stream",
          "name": "stdout",
          "text": [
            "a\n",
            "b\n",
            "c\n",
            "d\n",
            "f\n",
            "h\n",
            "i\n",
            "j\n"
          ]
        }
      ]
    },
    {
      "cell_type": "code",
      "source": [
        "for i in range(1, 4):\n",
        "    for j in range(1, 4):\n",
        "        print(i, j)"
      ],
      "metadata": {
        "colab": {
          "base_uri": "https://localhost:8080/"
        },
        "id": "n8qADiExFiQV",
        "outputId": "8d434096-4cae-4fba-8f68-2231ba320b8a"
      },
      "execution_count": 3,
      "outputs": [
        {
          "output_type": "stream",
          "name": "stdout",
          "text": [
            "1 1\n",
            "1 2\n",
            "1 3\n",
            "2 1\n",
            "2 2\n",
            "2 3\n",
            "3 1\n",
            "3 2\n",
            "3 3\n"
          ]
        }
      ]
    },
    {
      "cell_type": "code",
      "source": [
        "for i in range(10):\n",
        "    pass\n",
        "print(i)"
      ],
      "metadata": {
        "colab": {
          "base_uri": "https://localhost:8080/"
        },
        "id": "tdX-0zOVFp5T",
        "outputId": "c42d0cd7-0b42-40fd-982e-d678878fcf9a"
      },
      "execution_count": 6,
      "outputs": [
        {
          "output_type": "stream",
          "name": "stdout",
          "text": [
            "9\n"
          ]
        }
      ]
    },
    {
      "cell_type": "code",
      "source": [
        "for num in range(1, 60, 3):\n",
        "   print (num, end=' ')\n"
      ],
      "metadata": {
        "colab": {
          "base_uri": "https://localhost:8080/"
        },
        "id": "WYQ-QOvKF-Wu",
        "outputId": "5ac823fd-d211-40b9-d121-678e295806e3"
      },
      "execution_count": 7,
      "outputs": [
        {
          "output_type": "stream",
          "name": "stdout",
          "text": [
            "1 4 7 10 13 16 19 22 25 28 31 34 37 40 43 46 49 52 55 58 "
          ]
        }
      ]
    },
    {
      "cell_type": "code",
      "source": [
        "numbers = {10:\"Ten\", 20:\"Twenty\", 30:\"Thirty\",40:\"Forty\"}\n",
        "for x in numbers:\n",
        "   print (x)"
      ],
      "metadata": {
        "colab": {
          "base_uri": "https://localhost:8080/"
        },
        "id": "ctNaJXeZG1CI",
        "outputId": "c1746979-bd8a-429c-ec26-f7947741edbd"
      },
      "execution_count": 9,
      "outputs": [
        {
          "output_type": "stream",
          "name": "stdout",
          "text": [
            "10\n",
            "20\n",
            "30\n",
            "40\n"
          ]
        }
      ]
    },
    {
      "cell_type": "code",
      "source": [
        "my_set = {25, 12, 10, -21, 10, 100}\n",
        "\n",
        "\n",
        "for item in my_set:\n",
        "   print(\"Item:\", item)"
      ],
      "metadata": {
        "colab": {
          "base_uri": "https://localhost:8080/"
        },
        "id": "blKDIs0RHC09",
        "outputId": "fc26c8ee-fe0f-458f-ef53-741731d387e4"
      },
      "execution_count": 10,
      "outputs": [
        {
          "output_type": "stream",
          "name": "stdout",
          "text": [
            "Item: 100\n",
            "Item: 25\n",
            "Item: 10\n",
            "Item: -21\n",
            "Item: 12\n"
          ]
        }
      ]
    }
  ]
}