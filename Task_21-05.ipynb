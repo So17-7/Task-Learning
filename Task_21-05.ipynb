{
  "nbformat": 4,
  "nbformat_minor": 0,
  "metadata": {
    "colab": {
      "provenance": []
    },
    "kernelspec": {
      "name": "python3",
      "display_name": "Python 3"
    },
    "language_info": {
      "name": "python"
    }
  },
  "cells": [
    {
      "cell_type": "code",
      "execution_count": 3,
      "metadata": {
        "id": "uvhntDLhDG2y"
      },
      "outputs": [],
      "source": [
        "def add(x,y):\n",
        "\treturn x + y\n",
        "\n",
        "\n",
        "def sub(x,y):\n",
        "\treturn x - y\n",
        "\n",
        "def mul(x,y):\n",
        "\treturn x * y\n",
        "\n",
        "def div(x, y):\n",
        "\tif y!=0:\n",
        "\t\treturn x / y\n",
        "\telse:\n",
        "\t\treturn \"undefined\"\n",
        "\n",
        "def percentage(x):\n",
        "\treturn x/100\n",
        "\n",
        "def modulus(x,y):\n",
        "    if y!=0:\n",
        "        return x % y\n",
        "    else:\n",
        "        return \"undefined\"\n",
        "\n",
        "def circle_area(r):\n",
        "\treturn 3.14*r*r\n",
        "\n",
        "\n",
        "def triangle_area(b,h):\n",
        "\treturn (1/2)*b*h\n",
        "\n",
        "def square_area(a):\n",
        "\treturn a*a\n",
        "\n"
      ]
    },
    {
      "cell_type": "code",
      "source": [
        "add(45,46)"
      ],
      "metadata": {
        "colab": {
          "base_uri": "https://localhost:8080/"
        },
        "id": "oY5nfRKRDqGN",
        "outputId": "ea333579-4cff-47ce-a7c4-a8c1e1b17e50"
      },
      "execution_count": 4,
      "outputs": [
        {
          "output_type": "execute_result",
          "data": {
            "text/plain": [
              "91"
            ]
          },
          "metadata": {},
          "execution_count": 4
        }
      ]
    },
    {
      "cell_type": "code",
      "source": [
        "sub(22,22)"
      ],
      "metadata": {
        "colab": {
          "base_uri": "https://localhost:8080/"
        },
        "id": "Dq2uvfFmD09S",
        "outputId": "7c74176f-1350-442f-b3a8-650a38f3f20e"
      },
      "execution_count": 5,
      "outputs": [
        {
          "output_type": "execute_result",
          "data": {
            "text/plain": [
              "0"
            ]
          },
          "metadata": {},
          "execution_count": 5
        }
      ]
    },
    {
      "cell_type": "code",
      "source": [
        "mul(8,9)"
      ],
      "metadata": {
        "colab": {
          "base_uri": "https://localhost:8080/"
        },
        "id": "7l2kwscsD4_4",
        "outputId": "8cf9cd1f-9a04-4319-8783-40f60bfdc596"
      },
      "execution_count": 6,
      "outputs": [
        {
          "output_type": "execute_result",
          "data": {
            "text/plain": [
              "72"
            ]
          },
          "metadata": {},
          "execution_count": 6
        }
      ]
    },
    {
      "cell_type": "code",
      "source": [
        "div(9,3)"
      ],
      "metadata": {
        "colab": {
          "base_uri": "https://localhost:8080/"
        },
        "id": "oBQG6GcHEAUb",
        "outputId": "ffe77bbd-8df8-4159-dec9-4274f8275d7b"
      },
      "execution_count": 7,
      "outputs": [
        {
          "output_type": "execute_result",
          "data": {
            "text/plain": [
              "3.0"
            ]
          },
          "metadata": {},
          "execution_count": 7
        }
      ]
    },
    {
      "cell_type": "code",
      "source": [
        "percentage(3)"
      ],
      "metadata": {
        "colab": {
          "base_uri": "https://localhost:8080/"
        },
        "id": "s9irCDclEDzR",
        "outputId": "a6cecfd7-2a49-4858-aead-b6798196b27b"
      },
      "execution_count": 8,
      "outputs": [
        {
          "output_type": "execute_result",
          "data": {
            "text/plain": [
              "0.03"
            ]
          },
          "metadata": {},
          "execution_count": 8
        }
      ]
    },
    {
      "cell_type": "code",
      "source": [
        "circle_area(3)"
      ],
      "metadata": {
        "colab": {
          "base_uri": "https://localhost:8080/"
        },
        "id": "nvhsYy_zEJ88",
        "outputId": "04bb85d1-64ca-4102-c481-d32f0763bd3a"
      },
      "execution_count": 9,
      "outputs": [
        {
          "output_type": "execute_result",
          "data": {
            "text/plain": [
              "28.259999999999998"
            ]
          },
          "metadata": {},
          "execution_count": 9
        }
      ]
    },
    {
      "cell_type": "code",
      "source": [
        "square_area(5)"
      ],
      "metadata": {
        "colab": {
          "base_uri": "https://localhost:8080/"
        },
        "id": "ZajJj9L4EUvr",
        "outputId": "67cfad7a-231f-4bf0-9f6a-ef7e8f2f5859"
      },
      "execution_count": 10,
      "outputs": [
        {
          "output_type": "execute_result",
          "data": {
            "text/plain": [
              "25"
            ]
          },
          "metadata": {},
          "execution_count": 10
        }
      ]
    },
    {
      "cell_type": "code",
      "source": [
        "triangle_area(2,3)"
      ],
      "metadata": {
        "colab": {
          "base_uri": "https://localhost:8080/"
        },
        "id": "Ug3Yeb9qEi-w",
        "outputId": "dad43ebd-4d25-4599-a80f-7da74430d98b"
      },
      "execution_count": 11,
      "outputs": [
        {
          "output_type": "execute_result",
          "data": {
            "text/plain": [
              "3.0"
            ]
          },
          "metadata": {},
          "execution_count": 11
        }
      ]
    },
    {
      "cell_type": "code",
      "source": [
        "lst = [9,8,7,6,3,1]\n",
        "\n",
        "def srt_(lst):\n",
        "  for i in range(len(lst)):\n",
        "    for j in range(i+1,len(lst)):\n",
        "      if lst[i] > lst[j]:\n",
        "        lst[i],lst[j] = lst[j],lst[i]\n",
        "  return lst\n",
        "\n",
        "\n",
        "print(srt_(lst))\n"
      ],
      "metadata": {
        "colab": {
          "base_uri": "https://localhost:8080/"
        },
        "id": "9-s8HgJWE6py",
        "outputId": "410cb43b-6b48-4f86-dec6-e0bc1fb5e2bd"
      },
      "execution_count": 27,
      "outputs": [
        {
          "output_type": "stream",
          "name": "stdout",
          "text": [
            "[1, 3, 6, 7, 8, 9]\n"
          ]
        }
      ]
    },
    {
      "cell_type": "markdown",
      "source": [
        "*args\n",
        "**kwargs  global variable declaration"
      ],
      "metadata": {
        "id": "5_OFptfdJpB3"
      }
    },
    {
      "cell_type": "code",
      "source": [
        "def add_all(*args):\n",
        "   a = 0\n",
        "   for i in args:\n",
        "    a += i\n",
        "   return a\n",
        "add_all(1,2,3,4,5,6)"
      ],
      "metadata": {
        "colab": {
          "base_uri": "https://localhost:8080/"
        },
        "id": "F_YRQl79JfU-",
        "outputId": "174a9a6e-3025-41e3-9595-184bc651b3b4"
      },
      "execution_count": 32,
      "outputs": [
        {
          "output_type": "execute_result",
          "data": {
            "text/plain": [
              "21"
            ]
          },
          "metadata": {},
          "execution_count": 32
        }
      ]
    },
    {
      "cell_type": "code",
      "source": [
        "def msg(*args):\n",
        "   a = \"\"\n",
        "   for i in args:\n",
        "    a += i\n",
        "   return a\n",
        "msg(\"hi\",\"hello\")"
      ],
      "metadata": {
        "colab": {
          "base_uri": "https://localhost:8080/",
          "height": 36
        },
        "id": "6G9UP9K3Jg62",
        "outputId": "f71304f1-58db-46dc-bb14-6ba10f682fd5"
      },
      "execution_count": 34,
      "outputs": [
        {
          "output_type": "execute_result",
          "data": {
            "text/plain": [
              "'hihello'"
            ],
            "application/vnd.google.colaboratory.intrinsic+json": {
              "type": "string"
            }
          },
          "metadata": {},
          "execution_count": 34
        }
      ]
    },
    {
      "cell_type": "code",
      "source": [
        "def abc(**kwargs):\n",
        "  for k, val in kwargs.items():\n",
        "    print()\n",
        "abc(a = 0,b = 2,c = 9)"
      ],
      "metadata": {
        "colab": {
          "base_uri": "https://localhost:8080/"
        },
        "id": "5RELX4UZQFLT",
        "outputId": "416bc342-ca30-4f4b-e09d-74e27f2777df"
      },
      "execution_count": 36,
      "outputs": [
        {
          "output_type": "stream",
          "name": "stdout",
          "text": [
            "a 0\n",
            "b 2\n",
            "c 9\n"
          ]
        }
      ]
    },
    {
      "cell_type": "code",
      "source": [
        "def abc(**kwargs):\n",
        "    print(kwargs)\n",
        "\n",
        "abc(a = 0,b = 2,c = 9)"
      ],
      "metadata": {
        "colab": {
          "base_uri": "https://localhost:8080/"
        },
        "id": "2ev-2JBJQuqU",
        "outputId": "409ec374-4955-4545-e773-2f72d8b5b156"
      },
      "execution_count": 37,
      "outputs": [
        {
          "output_type": "stream",
          "name": "stdout",
          "text": [
            "{'a': 0, 'b': 2, 'c': 9}\n"
          ]
        }
      ]
    }
  ]
}