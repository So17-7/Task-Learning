{
  "nbformat": 4,
  "nbformat_minor": 0,
  "metadata": {
    "colab": {
      "provenance": [],
      "gpuType": "V28"
    },
    "kernelspec": {
      "name": "python3",
      "display_name": "Python 3"
    },
    "language_info": {
      "name": "python"
    },
    "accelerator": "TPU"
  },
  "cells": [
    {
      "cell_type": "markdown",
      "source": [
        "List functions"
      ],
      "metadata": {
        "id": "HqO6LERbmN7t"
      }
    },
    {
      "cell_type": "code",
      "source": [
        "s = [\"apple\", \"banana\", \"orange\"]\n",
        "\n",
        "s[0],s[1] = s[1],s[0]\n",
        "\n",
        "print(s)\n",
        "s.append(\"kiwi\")\n",
        "s.remove(\"apple\")\n",
        "s.insert(1,\"apricot\")\n",
        "print(s)"
      ],
      "metadata": {
        "colab": {
          "base_uri": "https://localhost:8080/"
        },
        "id": "5Ar8pBgSsvmy",
        "outputId": "2b152e9a-041d-4818-d99e-7b2a1cd6658e"
      },
      "execution_count": 14,
      "outputs": [
        {
          "output_type": "stream",
          "name": "stdout",
          "text": [
            "['banana', 'apple', 'orange']\n",
            "['banana', 'apricot', 'orange', 'kiwi']\n"
          ]
        }
      ]
    },
    {
      "cell_type": "markdown",
      "source": [
        "check if a string has a character\n"
      ],
      "metadata": {
        "id": "N40bycAdFDQH"
      }
    },
    {
      "cell_type": "code",
      "source": [
        "x = input(\"enter a string\")\n",
        "c = input(\"enter a character to check\")\n",
        "for i in x:\n",
        "    if i == c:\n",
        "        print(f\"the character {c} is present\")\n",
        "        break\n",
        "    else:\n",
        "      pass\n",
        "else:\n",
        "  print(f\"the character {c} is not present\")"
      ],
      "metadata": {
        "id": "FTBJapieuEq9",
        "colab": {
          "base_uri": "https://localhost:8080/"
        },
        "outputId": "93cc837d-cc5f-4d99-8cbf-241c5d234a10"
      },
      "execution_count": 6,
      "outputs": [
        {
          "output_type": "stream",
          "name": "stdout",
          "text": [
            "enter a stringoopsie\n",
            "enter a character to checke\n",
            "the character e is present\n"
          ]
        }
      ]
    },
    {
      "cell_type": "markdown",
      "source": [
        "max in a list"
      ],
      "metadata": {
        "id": "Rf4CkOd1GKmB"
      }
    },
    {
      "cell_type": "code",
      "source": [
        "a = [1,62,13,24,55,46,37,89,9]\n",
        "\n",
        "max = a[0]\n",
        "\n",
        "for i in range(len(a)):\n",
        "    if(max < a[i]):\n",
        "        max = a[i]\n",
        "\n",
        "print(max)"
      ],
      "metadata": {
        "colab": {
          "base_uri": "https://localhost:8080/"
        },
        "id": "wCJQvQXYGItp",
        "outputId": "53d64473-c3fa-4ee7-efd4-56da74e8bb99"
      },
      "execution_count": 7,
      "outputs": [
        {
          "output_type": "stream",
          "name": "stdout",
          "text": [
            "89\n"
          ]
        }
      ]
    },
    {
      "cell_type": "code",
      "source": [
        "a = input(\"enter a no\")\n",
        "b = input(\"enter a no\")\n",
        "c = input(\"enter a no\")\n",
        "\n",
        "l = a\n",
        "if l<b:\n",
        "  l = b\n",
        "elif l<c:\n",
        "  l = c\n",
        "\n",
        "print(l)"
      ],
      "metadata": {
        "colab": {
          "base_uri": "https://localhost:8080/"
        },
        "id": "TVSpMyHZHCNY",
        "outputId": "83e250f6-8b66-4247-897f-205f59fdbcb2"
      },
      "execution_count": 13,
      "outputs": [
        {
          "output_type": "stream",
          "name": "stdout",
          "text": [
            "enter a no8\n",
            "enter a no2\n",
            "enter a no9\n",
            "9\n"
          ]
        }
      ]
    },
    {
      "cell_type": "code",
      "source": [
        "import random as r\n",
        "a = r.randint(2,10)\n",
        "print(a)"
      ],
      "metadata": {
        "colab": {
          "base_uri": "https://localhost:8080/"
        },
        "id": "EwBzufExK2ME",
        "outputId": "62b6059b-fe2e-4feb-a992-d089e40683da"
      },
      "execution_count": 31,
      "outputs": [
        {
          "output_type": "stream",
          "name": "stdout",
          "text": [
            "4\n"
          ]
        }
      ]
    },
    {
      "cell_type": "code",
      "source": [
        "a = float(input(\"enter a no\"))\n",
        "\n",
        "while(1):\n",
        "\n",
        "    print(\"select what operation to perform \\n 1.add \\n 2.subtract \\n 3.multiply \\n 4.division \\n 5.percentage \\n 6.exit\")\n",
        "    x = int(input())\n",
        "    if(x != 5 and x <= 5):\n",
        "        b = float(input(\"enter second number\"))\n",
        "    if(x == 1):\n",
        "        print(f\" {a} + {b} = \",a+b)\n",
        "        a=a+b\n",
        "    elif(x == 2):\n",
        "        print(f\" {a} - {b} = \",a-b)\n",
        "        a=a-b\n",
        "    elif(x == 3):\n",
        "        print(f\" {a} * {b} = \",a*b)\n",
        "        a=a*b\n",
        "    elif(x == 4):\n",
        "        if(b != 0):\n",
        "            print(f\" {a} / {b} = \",a/b)\n",
        "            a=a/b\n",
        "        else:\n",
        "            print(\"div error\")\n",
        "    elif(x == 5):\n",
        "        print(f\" {a}/100 = \",a/100)\n",
        "        a = a/100\n",
        "    else:\n",
        "        break\n",
        "\n",
        "print(\"program exited\")"
      ],
      "metadata": {
        "colab": {
          "base_uri": "https://localhost:8080/"
        },
        "id": "PgkCfCeOH_WT",
        "outputId": "e09c01cb-d265-492d-ca2b-7d2920a38f47"
      },
      "execution_count": 28,
      "outputs": [
        {
          "output_type": "stream",
          "name": "stdout",
          "text": [
            "enter a no2\n",
            "select what operation to perform \n",
            " 1.add \n",
            " 2.subtract \n",
            " 3.multiply \n",
            " 4.division \n",
            " 5.percentage \n",
            " 6.exit\n",
            "3\n",
            "enter second number6\n",
            " 2.0 * 6.0 =  12.0\n",
            "select what operation to perform \n",
            " 1.add \n",
            " 2.subtract \n",
            " 3.multiply \n",
            " 4.division \n",
            " 5.percentage \n",
            " 6.exit\n",
            "5\n",
            " 12.0/100 =  0.12\n",
            "select what operation to perform \n",
            " 1.add \n",
            " 2.subtract \n",
            " 3.multiply \n",
            " 4.division \n",
            " 5.percentage \n",
            " 6.exit\n",
            "4\n",
            "enter second number3\n",
            " 0.12 / 3.0 =  0.04\n",
            "select what operation to perform \n",
            " 1.add \n",
            " 2.subtract \n",
            " 3.multiply \n",
            " 4.division \n",
            " 5.percentage \n",
            " 6.exit\n",
            "1\n",
            "enter second number2\n",
            " 0.04 + 2.0 =  2.04\n",
            "select what operation to perform \n",
            " 1.add \n",
            " 2.subtract \n",
            " 3.multiply \n",
            " 4.division \n",
            " 5.percentage \n",
            " 6.exit\n",
            "2\n",
            "enter second number1\n",
            " 2.04 - 1.0 =  1.04\n",
            "select what operation to perform \n",
            " 1.add \n",
            " 2.subtract \n",
            " 3.multiply \n",
            " 4.division \n",
            " 5.percentage \n",
            " 6.exit\n",
            "4\n",
            "enter second number0\n",
            "div error\n",
            "select what operation to perform \n",
            " 1.add \n",
            " 2.subtract \n",
            " 3.multiply \n",
            " 4.division \n",
            " 5.percentage \n",
            " 6.exit\n",
            "8\n",
            "program exited\n"
          ]
        }
      ]
    }
  ]
}